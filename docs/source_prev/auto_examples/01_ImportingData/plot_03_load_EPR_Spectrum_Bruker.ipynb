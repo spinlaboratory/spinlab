{
  "cells": [
    {
      "cell_type": "markdown",
      "metadata": {},
      "source": [
        "\n\n# Load EPR spectrum in Bruker EMX format\n\nIn this example we demonstrate how to load and EPR spectrum and process the data.\n"
      ]
    },
    {
      "cell_type": "markdown",
      "metadata": {},
      "source": [
        "## Load EPR Data\nFirst, add SpinLab to the Python environment,\n\n"
      ]
    },
    {
      "cell_type": "code",
      "execution_count": null,
      "metadata": {
        "collapsed": false
      },
      "outputs": [],
      "source": [
        "import spinlab as sl"
      ]
    },
    {
      "cell_type": "markdown",
      "metadata": {},
      "source": [
        "and then import an EPR spectrum. SpinLab can handle spectra recorded on different spectrometers such as the Bruker ElexSys, the Bruker EMX system, or home-built spectrometers running on Boris Epel's software SpecMan4EPR. In this example we will load a spectrum from a Bruker EMX system.\n\n"
      ]
    },
    {
      "cell_type": "code",
      "execution_count": null,
      "metadata": {
        "collapsed": false
      },
      "outputs": [],
      "source": [
        "data = sl.load(\"../../data/bes3t/1D_CW.DTA\")"
      ]
    },
    {
      "cell_type": "markdown",
      "metadata": {},
      "source": [
        "## Process EPR Data\nIn this section, we will demonstrate some basic EPR processing.\n\n"
      ]
    },
    {
      "cell_type": "markdown",
      "metadata": {},
      "source": [
        "First, let's perform a baseline correction using a zeroth order polynomial to remove a DC offset:\n\n"
      ]
    },
    {
      "cell_type": "code",
      "execution_count": null,
      "metadata": {
        "collapsed": false
      },
      "outputs": [],
      "source": [
        "data_proc = sl.remove_background(data, dim=\"B0\")"
      ]
    },
    {
      "cell_type": "markdown",
      "metadata": {},
      "source": [
        "Here a new slData object is created containing the corrected data. This is helpful, if the processing for different data sets need to be compared. The remove_background function will calculate a zero order polynomial background and will subtract this value from the data. To plot the corrected spectrum simply use:\n\n"
      ]
    },
    {
      "cell_type": "code",
      "execution_count": null,
      "metadata": {
        "collapsed": false
      },
      "outputs": [],
      "source": [
        "sl.fancy_plot(data_proc, xlim=[344, 354], title=\"EPR Spectrum\")"
      ]
    },
    {
      "cell_type": "markdown",
      "metadata": {},
      "source": [
        "The ''fancy_plot'' function is very helpful to create simple plots. For more complicated figures the matplotlib functions can be used. Note, that the plotting functions of the matplotlib package are already loaded into the SpinLab environment.\n\n"
      ]
    },
    {
      "cell_type": "code",
      "execution_count": null,
      "metadata": {
        "collapsed": false
      },
      "outputs": [],
      "source": [
        "sl.plt.figure()\nsl.plt.plot(data.coords[\"B0\"], data.values.real, label=\"No Background Correction\")\nsl.plt.plot(\n    data_proc.coords[\"B0\"], data_proc.values.real, label=\"Background Correction\"\n)\nsl.plt.xlabel(\"Magnetic Field (mT)\")\nsl.plt.ylabel(\"EPR Signal Intensity (a.u.)\")\nsl.plt.grid(True)\nsl.plt.tight_layout()\nsl.plt.legend()\nsl.plt.show()"
      ]
    },
    {
      "cell_type": "markdown",
      "metadata": {},
      "source": [
        "Note the DC offset of about -0.5.\n\n"
      ]
    },
    {
      "cell_type": "markdown",
      "metadata": {},
      "source": [
        "## Show EPR Attributes\nTo show a list of attributes with the EPR spectrum\n\n"
      ]
    },
    {
      "cell_type": "code",
      "execution_count": null,
      "metadata": {
        "collapsed": false
      },
      "outputs": [],
      "source": [
        "sl.fancy_plot(data_proc, xlim=[344, 354], title=\"EPR Spectrum\", showPar=True)\nsl.plt.show()"
      ]
    }
  ],
  "metadata": {
    "kernelspec": {
      "display_name": "Python 3",
      "language": "python",
      "name": "python3"
    },
    "language_info": {
      "codemirror_mode": {
        "name": "ipython",
        "version": 3
      },
      "file_extension": ".py",
      "mimetype": "text/x-python",
      "name": "python",
      "nbconvert_exporter": "python",
      "pygments_lexer": "ipython3",
      "version": "3.11.9"
    }
  },
  "nbformat": 4,
  "nbformat_minor": 0
}