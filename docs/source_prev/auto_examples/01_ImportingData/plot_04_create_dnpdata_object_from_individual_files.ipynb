{
  "cells": [
    {
      "cell_type": "markdown",
      "metadata": {},
      "source": [
        "\n\n# Create a 2D sldata object from set of individual spectra\n\nThis example demonstrates how to import a list of Spin-NMR spectra and create a 2D sldata object.\n\nDepending on how you record a set of Spin-NMR experiments, you will either end up with a single file corresponding to a 2D array of spectra (in which case you can skip to the next example ...) or with a set of individual files recorded for example at different microwave power levels. A common example is recording the NMR signal at different levels of microwave power to determine the enhancement at maximum power. Processing each spectrum individually is tedious and time-consuming. To make processing more convenient, the individual NMR spectra can be concatenated in a single sldata object for easy processing and analyzing of the data.\n"
      ]
    },
    {
      "cell_type": "markdown",
      "metadata": {},
      "source": [
        "## Load NMR Spectra\nFor this example a set of 41 individual 1D NMR spectra are imported. Each spectrum is recorded using a different microwave power. The import function of SpinLab can handle a list of spectra and will automatically create the sldata object. To load multiple spectra first create a list of paths to the individual spectra (alternatively, you can loop over the folder index, however, for educational purposes we keep this example simple for now).\n\n"
      ]
    },
    {
      "cell_type": "code",
      "execution_count": null,
      "metadata": {
        "collapsed": false
      },
      "outputs": [],
      "source": [
        "import spinlab as sl\nimport numpy as np\n\nfilepath_prefix = \"../../data/prospa/toluene_10mM_Tempone/\"\n\nfilenames = [filepath_prefix + \"%d/data.1d\" % i for i in range(1, 42)]"
      ]
    },
    {
      "cell_type": "markdown",
      "metadata": {},
      "source": [
        "In addition, create an array with the power levels. In this example we use numpy to create the array. The length of this array should match the number of spectra. The Python list \"filenames\" and the array of power levels will become input arguments to the load function. Here, the dimension is called \"Power\" and the values stored in \"powers\" serves as the \"coord\" input argument. When importing the spectra SpinLab will automatically create a 2D object with a new dimension named \"Power\" and the data is concatenated into a single 2D sldata object. In this example the power is given in units of dBm.\n\n"
      ]
    },
    {
      "cell_type": "code",
      "execution_count": null,
      "metadata": {
        "collapsed": false
      },
      "outputs": [],
      "source": [
        "powers = np.linspace(0, 40, 41)"
      ]
    },
    {
      "cell_type": "markdown",
      "metadata": {},
      "source": [
        "Now load the data and assign the power array to coord,\n\n"
      ]
    },
    {
      "cell_type": "code",
      "execution_count": null,
      "metadata": {
        "collapsed": false
      },
      "outputs": [],
      "source": [
        "data = sl.load(filenames, dim=\"Power\", coord=powers)"
      ]
    },
    {
      "cell_type": "markdown",
      "metadata": {},
      "source": [
        "## Process and Save the NMR Spectra\nOnce the 2D data set is created, NMR processing is straightforward. Here, we apply a line-broadening of 10 Hz, perform a Fourier Transformation, and zero-filling of the data set to twice the number of points (default of the Fourier transform function).\n\n"
      ]
    },
    {
      "cell_type": "code",
      "execution_count": null,
      "metadata": {
        "collapsed": false
      },
      "outputs": [],
      "source": [
        "# sl.slNMR.remove_offset(ws)\n\ndata = sl.apodize(data, lw=10)\ndata = sl.fourier_transform(data)"
      ]
    },
    {
      "cell_type": "markdown",
      "metadata": {},
      "source": [
        "Once the raw data are processed it is time to plot the 1D spectra.\n\n"
      ]
    },
    {
      "cell_type": "code",
      "execution_count": null,
      "metadata": {
        "collapsed": false
      },
      "outputs": [],
      "source": [
        "sampleTag = \"10 mM TEMPO in Toluene\"\n\nsl.plt.figure()\nsl.fancy_plot(data, xlim=[-10, 20])\nsl.plt.title(sampleTag)\nsl.plt.show()\nsl.plt.tight_layout()"
      ]
    },
    {
      "cell_type": "markdown",
      "metadata": {},
      "source": [
        "## Saving the Processed Data\nSpinLab can save large data sets in a single file, so the processed data can be used at a later stage for further processing or analysis.\n\n"
      ]
    },
    {
      "cell_type": "code",
      "execution_count": null,
      "metadata": {
        "collapsed": false
      },
      "outputs": [],
      "source": [
        "file_name_path = \"../../data/h5/PowerBuildUp.h5\"\nsl.save(data, file_name_path, overwrite=True)"
      ]
    },
    {
      "cell_type": "markdown",
      "metadata": {},
      "source": [
        "SpinLab saves the 2D sldata object in the hdf5 file format. We will use this data in the next example (`plot_01_load_2D_calculate_Spin_enhancements`) for further processing.\n\n"
      ]
    }
  ],
  "metadata": {
    "kernelspec": {
      "display_name": "Python 3",
      "language": "python",
      "name": "python3"
    },
    "language_info": {
      "codemirror_mode": {
        "name": "ipython",
        "version": 3
      },
      "file_extension": ".py",
      "mimetype": "text/x-python",
      "name": "python",
      "nbconvert_exporter": "python",
      "pygments_lexer": "ipython3",
      "version": "3.11.9"
    }
  },
  "nbformat": 4,
  "nbformat_minor": 0
}