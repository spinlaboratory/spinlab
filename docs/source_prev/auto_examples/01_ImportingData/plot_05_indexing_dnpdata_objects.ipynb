{
  "cells": [
    {
      "cell_type": "markdown",
      "metadata": {},
      "source": [
        "\n\n# How to select a slice from a 2D sldata object\n\nThis example demonstrates how to select a slice of a SpinData object.\n\nYou can index a SpinData object by specifying the name of the dimension and the index of the slice.\n"
      ]
    },
    {
      "cell_type": "markdown",
      "metadata": {},
      "source": [
        "## Import SpinLab and create a set of data\nUse the lorentzian function to generate a 2d set of lorentzian distributions.\n\n"
      ]
    },
    {
      "cell_type": "code",
      "execution_count": null,
      "metadata": {
        "collapsed": false
      },
      "outputs": [],
      "source": [
        "import numpy as np\nfrom matplotlib.pylab import *\n\nimport spinlab as sl\n\nx = np.r_[-50:50:1024j]\ny = np.r_[-10:10:1]\n\nvalues = sl.math.lineshape.lorentzian(x.reshape(-1, 1), y.reshape(1, -1), 0.5)\n\ndata = sl.SpinData(values, [\"f2\", \"sample\"], [x, y])"
      ]
    },
    {
      "cell_type": "markdown",
      "metadata": {},
      "source": [
        "To specify a slice based on the index, we use an integer. This will select the slice at index 3.\n\n"
      ]
    },
    {
      "cell_type": "code",
      "execution_count": null,
      "metadata": {
        "collapsed": false
      },
      "outputs": [],
      "source": [
        "data_slice_integer = data[\"sample\", 3]  # get slice by index\n\n# Taking the slice does not remove the sample dimension. We can remove dimensions of length 1 with the squeeze method\ndata_slice_integer.squeeze()  # remove \"sample\" dimension"
      ]
    },
    {
      "cell_type": "markdown",
      "metadata": {},
      "source": [
        "In many cases, we want the slice at a specific value of the coordinates. To do this, we use a float to specify the slice location. In python, by adding a period after the number, python interprets the number as a float instead of integer.\n\n"
      ]
    },
    {
      "cell_type": "code",
      "execution_count": null,
      "metadata": {
        "collapsed": false
      },
      "outputs": [],
      "source": [
        "data_slice_float = data[\n    \"sample\", 3.0\n]  # get slice at index closest to coordinates value of 3.\ndata_slice_float.squeeze()  # again, we remove the \"sample\" dimension."
      ]
    },
    {
      "cell_type": "markdown",
      "metadata": {},
      "source": [
        "## Plot the result\nLet's plot the 1d slices:\n\n"
      ]
    },
    {
      "cell_type": "code",
      "execution_count": null,
      "metadata": {
        "collapsed": false
      },
      "outputs": [],
      "source": [
        "figure()\nsl.plot(data_slice_integer)\nsl.plot(data_slice_float)\nxlabel(\"Frequency (Hz)\")\nylabel(\"Signal (a.u.)\")\ntight_layout()"
      ]
    },
    {
      "cell_type": "markdown",
      "metadata": {},
      "source": [
        "Similarly, we can also slice by specifying a range of values. To do this, we use a tuple specify the minimum and maximum values for the index.\n\n"
      ]
    },
    {
      "cell_type": "code",
      "execution_count": null,
      "metadata": {
        "collapsed": false
      },
      "outputs": [],
      "source": [
        "data_slice_range = data[\"sample\", (-3, 3)]"
      ]
    },
    {
      "cell_type": "markdown",
      "metadata": {},
      "source": [
        "For an advanced tutorial how indexing works and how to extract individual data slice from a multi-dimensional slData object see the `plot_02_extract_data` tutorial.\n\n"
      ]
    }
  ],
  "metadata": {
    "kernelspec": {
      "display_name": "Python 3",
      "language": "python",
      "name": "python3"
    },
    "language_info": {
      "codemirror_mode": {
        "name": "ipython",
        "version": 3
      },
      "file_extension": ".py",
      "mimetype": "text/x-python",
      "name": "python",
      "nbconvert_exporter": "python",
      "pygments_lexer": "ipython3",
      "version": "3.11.9"
    }
  },
  "nbformat": 4,
  "nbformat_minor": 0
}