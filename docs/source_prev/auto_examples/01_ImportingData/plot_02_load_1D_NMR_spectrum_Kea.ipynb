{
  "cells": [
    {
      "cell_type": "markdown",
      "metadata": {},
      "source": [
        "\n\n# Load two 1D NMR spectra in Kea format\n\nIn this example we demonstrate how to import two ODNP-enhanced NMR spectra, one recorded with a microwave power of 0 W (off-signal) and one with a microwave power of 2 W (on-signal). The spectra are recorded using a Magritek Kea system.\n\nThe example script has three different sections:\n\n#. Load and Process Off-Signal\n#. Load and Process On-Signal\n#. Create a Figure and Plot On/Off Spectra\n"
      ]
    },
    {
      "cell_type": "markdown",
      "metadata": {},
      "source": [
        "Make sure to start with importing SpinLab\n\n"
      ]
    },
    {
      "cell_type": "code",
      "execution_count": null,
      "metadata": {
        "collapsed": false
      },
      "outputs": [],
      "source": [
        "import spinlab as sl"
      ]
    },
    {
      "cell_type": "markdown",
      "metadata": {},
      "source": [
        "## Load and Process Off-Signal\nThe next section demonstrates how the FID is imported into SpinLab and processed. Processing involves removing any DC offset, followed by a 15 Hz linewidth apodization, prior to performing the Fourier transformation.\n\n"
      ]
    },
    {
      "cell_type": "code",
      "execution_count": null,
      "metadata": {
        "collapsed": false
      },
      "outputs": [],
      "source": [
        "########## OFF Signal (P = 0 W) ##########\ndata_off = sl.load(\"../../data/prospa/10mM_TEMPO_Water/1Pulse_20200929/35/data.1d\")\n\ndata_off = sl.remove_background(data_off)\ndata_off = sl.apodize(data_off, lw=15)\ndata_off = sl.fourier_transform(data_off)"
      ]
    },
    {
      "cell_type": "markdown",
      "metadata": {},
      "source": [
        "## Load and Process ON-Signal\nImporting the on-signal involves the same steps as importing the off-signal. Once processed the data is copied to the results buffer 'onSignal'.\n\n"
      ]
    },
    {
      "cell_type": "code",
      "execution_count": null,
      "metadata": {
        "collapsed": false
      },
      "outputs": [],
      "source": [
        "########## ON Signal (P = 2 W) ##########\ndata_on = sl.load(\"../../data/prospa/10mM_TEMPO_Water/1Pulse_20200929/51/data.1d\")\n\ndata_on = sl.remove_background(data_on)\ndata_on = sl.apodize(data_on, lw=15)\ndata_on = sl.fourier_transform(data_on)"
      ]
    },
    {
      "cell_type": "markdown",
      "metadata": {},
      "source": [
        "## Plot Microwave On/Off Spin Spectra\nFirst plot spectra individually\n\n"
      ]
    },
    {
      "cell_type": "code",
      "execution_count": null,
      "metadata": {
        "collapsed": false
      },
      "outputs": [],
      "source": [
        "sampleTag = \"10 mM TEMPO in Water\"\n\nsl.plt.figure()\nsl.fancy_plot(data_on, title=sampleTag + \", MW On Spectrum\")\n\nsl.plt.figure()\nsl.fancy_plot(data_off, title=sampleTag + \", MW Off Spectrum\")\nsl.plt.show()"
      ]
    },
    {
      "cell_type": "markdown",
      "metadata": {},
      "source": [
        "Next plot both spectra in the same figure\n\n"
      ]
    },
    {
      "cell_type": "code",
      "execution_count": null,
      "metadata": {
        "collapsed": false
      },
      "outputs": [],
      "source": [
        "sl.plt.figure()\nsl.fancy_plot(data_on, xlim=[-20, 20])\nsl.fancy_plot(data_off * 50, xlim=[-20, 20])\nsl.plt.title(sampleTag + \", MW ON/OFF(*50)\")\nsl.plt.tight_layout()\nsl.plt.show()"
      ]
    }
  ],
  "metadata": {
    "kernelspec": {
      "display_name": "Python 3",
      "language": "python",
      "name": "python3"
    },
    "language_info": {
      "codemirror_mode": {
        "name": "ipython",
        "version": 3
      },
      "file_extension": ".py",
      "mimetype": "text/x-python",
      "name": "python",
      "nbconvert_exporter": "python",
      "pygments_lexer": "ipython3",
      "version": "3.11.9"
    }
  },
  "nbformat": 4,
  "nbformat_minor": 0
}