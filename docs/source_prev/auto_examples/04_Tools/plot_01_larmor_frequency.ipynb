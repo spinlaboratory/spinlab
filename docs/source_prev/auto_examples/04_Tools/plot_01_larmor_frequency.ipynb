{
  "cells": [
    {
      "cell_type": "markdown",
      "metadata": {},
      "source": [
        "\n\n# Calculate/Plot Nuclear Larmor Frequency\n\nThis example demonstrates how to use the tool to calculate the nuclear Larmor frequency.\n"
      ]
    },
    {
      "cell_type": "markdown",
      "metadata": {},
      "source": [
        "## Get Magnetic Resonance Properties\nSpinLab stores a dictionary called ``gmrProperties`` with magnetic resonance properties of all nuclei of the periodic table. The dictionary is modeled after the Matlab function *gmr* written, and implemented by |GMRFunctionMatlab|. For more details see the detailed documentation of the dictionary. The dictionary stores the following parameters:\n\n* Spin Quantum Number\n* Gyromagnetic Ratio (Hz/T)\n* Nuclear Quadrupole Moment (fm^2, 100 barns)\n* Isotope Natural Abundance (%)\n* Relative Sensitivity with Respect to 1H at same B_{0}\n\n(for nuclei with I > 1/2), and some more parameters. This dictionary can be used to provide nuclear properties in any calculation, it is also used by the SpinLab function ``mr_properties``.\n\nTo get started, first, setup the python environment:\n\n"
      ]
    },
    {
      "cell_type": "code",
      "execution_count": null,
      "metadata": {
        "collapsed": false
      },
      "outputs": [],
      "source": [
        "import spinlab as sl\nimport matplotlib.pyplot as plt"
      ]
    },
    {
      "cell_type": "markdown",
      "metadata": {},
      "source": [
        "Let's query some of the parameters:\n\n"
      ]
    },
    {
      "cell_type": "markdown",
      "metadata": {},
      "source": [
        "**Proton Gyromagnetic Ratio**\n\n"
      ]
    },
    {
      "cell_type": "code",
      "execution_count": null,
      "metadata": {
        "collapsed": false
      },
      "outputs": [],
      "source": [
        "print(\"v_L(1H) = \", sl.mr_properties(\"1H\"), \"(Hz/T)\")"
      ]
    },
    {
      "cell_type": "markdown",
      "metadata": {},
      "source": [
        "**Nirogen 14N nuclear spin quantum number**\n\n"
      ]
    },
    {
      "cell_type": "code",
      "execution_count": null,
      "metadata": {
        "collapsed": false
      },
      "outputs": [],
      "source": [
        "print(\"I = \", sl.mr_properties(\"14N\", \"spin\"))"
      ]
    },
    {
      "cell_type": "markdown",
      "metadata": {},
      "source": [
        "**Carbon 13 (13C) natural abundance**\n\n"
      ]
    },
    {
      "cell_type": "code",
      "execution_count": null,
      "metadata": {
        "collapsed": false
      },
      "outputs": [],
      "source": [
        "print(sl.mr_properties(\"13C\", \"natAbundance\"), \" %\")"
      ]
    },
    {
      "cell_type": "markdown",
      "metadata": {},
      "source": [
        "**Plot Gyromagnetic Ratios for Elements in the Periodic Table**\n\n"
      ]
    },
    {
      "cell_type": "code",
      "execution_count": null,
      "metadata": {
        "collapsed": false
      },
      "outputs": [],
      "source": [
        "gmr = [value[1] for value in sl.gmrProperties.values()]\n\nplt.figure()\nplt.plot(gmr[1:-1])\nplt.xlabel(\"Index\")\nplt.ylabel(\"Gyromagnetic Ratio (10^7r/Ts)\")\nplt.grid(True)\nplt.show()"
      ]
    }
  ],
  "metadata": {
    "kernelspec": {
      "display_name": "Python 3",
      "language": "python",
      "name": "python3"
    },
    "language_info": {
      "codemirror_mode": {
        "name": "ipython",
        "version": 3
      },
      "file_extension": ".py",
      "mimetype": "text/x-python",
      "name": "python",
      "nbconvert_exporter": "python",
      "pygments_lexer": "ipython3",
      "version": "3.11.9"
    }
  },
  "nbformat": 4,
  "nbformat_minor": 0
}