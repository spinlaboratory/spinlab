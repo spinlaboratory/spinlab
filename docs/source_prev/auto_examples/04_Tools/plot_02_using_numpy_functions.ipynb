{
  "cells": [
    {
      "cell_type": "markdown",
      "metadata": {},
      "source": [
        "\n\n# Using common NumPy functions on sldata objects\n\nThis example demonstrates how to use common numpy functions to manipulate sldata objects.\n\nNote, this is still an experimental feature.\n"
      ]
    },
    {
      "cell_type": "markdown",
      "metadata": {},
      "source": [
        "# How numpy array functions are operating on SpinData\n\nMany numpy functions can directly be used on SpinData. What the function returns depends on the result:\n\n* when the result is a scalar a salar is returned\n* when the result is a ndarray a SpinData object is returned\n\nwhen the axis keyword is support by the numpy function one can provide the dimension (e.g. np.sum(mydata, axis='f2'))\nThe corresponding axis is consumed and no longer in the returned SpinData object.\nThe following example shows how this can be conveniently used.\n\nTo get started, first, setup the python environment:\n\n"
      ]
    },
    {
      "cell_type": "code",
      "execution_count": null,
      "metadata": {
        "collapsed": false
      },
      "outputs": [],
      "source": [
        "import spinlab as sl\nimport numpy as np\nimport matplotlib.pyplot as plt"
      ]
    },
    {
      "cell_type": "markdown",
      "metadata": {},
      "source": [
        "Let's load some example data\nthe data consists of 4 fid that are phase cycled (0-90-180-270)\n\n"
      ]
    },
    {
      "cell_type": "code",
      "execution_count": null,
      "metadata": {
        "collapsed": false
      },
      "outputs": [],
      "source": [
        "data = sl.load(\"../../data/prospa/water_phase_cycled/data.2d\")"
      ]
    },
    {
      "cell_type": "markdown",
      "metadata": {},
      "source": [
        "we are interested in the spectra\n\n"
      ]
    },
    {
      "cell_type": "code",
      "execution_count": null,
      "metadata": {
        "collapsed": false
      },
      "outputs": [],
      "source": [
        "data = sl.fourier_transform(data)"
      ]
    },
    {
      "cell_type": "markdown",
      "metadata": {},
      "source": [
        "since we don't know what the spectra is made of, we want to have a quick look at the magnitude:\n\n"
      ]
    },
    {
      "cell_type": "code",
      "execution_count": null,
      "metadata": {
        "collapsed": false
      },
      "outputs": [],
      "source": [
        "data_magn = np.abs(data)"
      ]
    },
    {
      "cell_type": "markdown",
      "metadata": {},
      "source": [
        "and lets plot the magnitude spectrum for all 4 cycles\n\n"
      ]
    },
    {
      "cell_type": "code",
      "execution_count": null,
      "metadata": {
        "collapsed": false
      },
      "outputs": [],
      "source": [
        "sl.fancy_plot(data_magn)"
      ]
    },
    {
      "cell_type": "markdown",
      "metadata": {},
      "source": [
        "since the spectra are phase cycled the mean of the real part of the spectrum should be 0.\nLet's check and plot that:\n\n"
      ]
    },
    {
      "cell_type": "code",
      "execution_count": null,
      "metadata": {
        "collapsed": false
      },
      "outputs": [],
      "source": [
        "mean_real_spectrum = np.real(np.mean(data, axis=\"Average\"))\ntotal_mean = np.mean(mean_real_spectrum)\naverage_in_dims = \"Average\" in mean_real_spectrum.dims\nprint(\"The sum of the mean spectrum is {0} \".format(total_mean))\nprint(\"Average in mean_real_spectrum.dims: {0}\".format(average_in_dims))\nsl.fancy_plot(mean_real_spectrum)"
      ]
    },
    {
      "cell_type": "markdown",
      "metadata": {},
      "source": [
        "the total mean could also be calculated directly using np.mean() without the axis keyword (up to numerical precision)\n\n"
      ]
    },
    {
      "cell_type": "code",
      "execution_count": null,
      "metadata": {
        "collapsed": false
      },
      "outputs": [],
      "source": [
        "print(np.mean(np.real(data)), \"~=\", total_mean)\nsl.plt.show()"
      ]
    }
  ],
  "metadata": {
    "kernelspec": {
      "display_name": "Python 3",
      "language": "python",
      "name": "python3"
    },
    "language_info": {
      "codemirror_mode": {
        "name": "ipython",
        "version": 3
      },
      "file_extension": ".py",
      "mimetype": "text/x-python",
      "name": "python",
      "nbconvert_exporter": "python",
      "pygments_lexer": "ipython3",
      "version": "3.11.9"
    }
  },
  "nbformat": 4,
  "nbformat_minor": 0
}