{
  "cells": [
    {
      "cell_type": "markdown",
      "metadata": {},
      "source": [
        "\n\n# Downloading datasets from LOGS\n\nThis example demonstrates how to use SpinLab to download datasets from LOGS.\n"
      ]
    },
    {
      "cell_type": "markdown",
      "metadata": {},
      "source": [
        "# How to download datasets from LOGS\nThis function requires the 'LOGS-py' API to be installed.\n\nTo get started, first, setup the python environment:\n\n"
      ]
    },
    {
      "cell_type": "code",
      "execution_count": null,
      "metadata": {
        "collapsed": false
      },
      "outputs": [],
      "source": [
        "import spinlab as sl"
      ]
    },
    {
      "cell_type": "markdown",
      "metadata": {},
      "source": [
        "Lets declare the files you want to download.\nThe format can be a string or a list of strings.\n\n"
      ]
    },
    {
      "cell_type": "code",
      "execution_count": null,
      "metadata": {
        "collapsed": false
      },
      "outputs": [],
      "source": [
        "files = ['Test Dataset 1', 'Test Dataset 2']"
      ]
    },
    {
      "cell_type": "markdown",
      "metadata": {},
      "source": [
        "U=You might need to provide the URL and API key for LOGS.\n\n"
      ]
    },
    {
      "cell_type": "code",
      "execution_count": null,
      "metadata": {
        "collapsed": false
      },
      "outputs": [],
      "source": [
        "url = \"https://logs.spinlab.org\"\napiKey = 'xxxxxxxxxxxxxxxxxxxxxxxxxxxxxxxxxxxxx'"
      ]
    },
    {
      "cell_type": "markdown",
      "metadata": {},
      "source": [
        "Next, can download the dataset using the `download` function from the `logs` module.\n\n"
      ]
    },
    {
      "cell_type": "code",
      "execution_count": null,
      "metadata": {
        "collapsed": false
      },
      "outputs": [],
      "source": [
        "file_list, data_format = sl.logs.download(files, url=url, apiKey=apiKey)\n\n# The files will be downloaded to the current working directory in a folder called 'data'.\n\n# Now you can load the files using the `load` function\ndata = sl.load(file_list, dim = 't2', coords = [0, 1])"
      ]
    }
  ],
  "metadata": {
    "kernelspec": {
      "display_name": "Python 3",
      "language": "python",
      "name": "python3"
    },
    "language_info": {
      "codemirror_mode": {
        "name": "ipython",
        "version": 3
      },
      "file_extension": ".py",
      "mimetype": "text/x-python",
      "name": "python",
      "nbconvert_exporter": "python",
      "pygments_lexer": "ipython3",
      "version": "3.11.9"
    }
  },
  "nbformat": 4,
  "nbformat_minor": 0
}