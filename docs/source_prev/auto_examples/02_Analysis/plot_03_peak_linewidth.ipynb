{
  "cells": [
    {
      "cell_type": "markdown",
      "metadata": {},
      "source": [
        "\n\n# Peak Linewidth\n\nThis example demonstrates how to determine the linewidth of peaks in an NMR spectrum.\n"
      ]
    },
    {
      "cell_type": "markdown",
      "metadata": {},
      "source": [
        "## Load and Process Data\nLet's start with importing a NMR data set and apply some standard processing. Here we use an ODNP-enhanced low-frequency (14.5 MHz) NMR spectrum of 10 mM TEMPONE in toluene. The spectrum can be found in the example data folder of SpinLab.\n\n"
      ]
    },
    {
      "cell_type": "code",
      "execution_count": null,
      "metadata": {
        "collapsed": false
      },
      "outputs": [],
      "source": [
        "import numpy as np\nimport spinlab as sl\n\nfile_name_path = \"../../data/prospa/toluene_10mM_Tempone/40\"\ndata = sl.load(file_name_path)\ndata.attrs[\"experiment_type\"] = \"nmr_spectrum\"\n\ndata = sl.apodize(data, lw=2)\ndata = sl.fourier_transform(data)\ndata = sl.phase(data, p0=175)\n\nsl.plt.figure()\nsl.fancy_plot(data, xlim=[-20, 20])\nsl.plt.title(\"ODNP-Enhanced NMR Spectrum of 10 mM TEMPONE in Toluene\")\nsl.plt.tight_layout()\nsl.plt.show()"
      ]
    },
    {
      "cell_type": "markdown",
      "metadata": {},
      "source": [
        "## Get Peak Linewidth\nNext we apply the SpinLab function *find_peaks* to get a list of all the peaks the algorithm can find in the spectrum and print the list in the terminal.\n\n"
      ]
    },
    {
      "cell_type": "code",
      "execution_count": null,
      "metadata": {
        "collapsed": false
      },
      "outputs": [],
      "source": [
        "peaks = sl.find_peaks(data)\nprint(peaks.values)"
      ]
    },
    {
      "cell_type": "markdown",
      "metadata": {},
      "source": [
        "The function returns a sldata object with a 3xn arrays of values , with n being the number of peaks found in the spectrum, corresponding to the columns of the array. In this examples, the peak picking function finds two peaks, one for the methyl group and one for all aromatic protons. When printing the values of the sldata object the first row corresponds to the index of the peak in the spectrum, the linewidth in Hz is given in the second row, and the relative peak height is given in the third row. The values can be printed in a human readable form using the *peak_info* function\n\n"
      ]
    },
    {
      "cell_type": "code",
      "execution_count": null,
      "metadata": {
        "collapsed": false
      },
      "outputs": [],
      "source": [
        "sl.peak_info(peaks)"
      ]
    },
    {
      "cell_type": "markdown",
      "metadata": {},
      "source": [
        "## Setting the Threshold\nBy default, *find_peaks* will identify every feature in the spectrum with a amplitude > 5 % of the maximum intensity as a peak. For this, the spectrum is first normalized to a maximum amplitude of 1. This default value can be change as shown in the next line\n\n"
      ]
    },
    {
      "cell_type": "code",
      "execution_count": null,
      "metadata": {
        "collapsed": false
      },
      "outputs": [],
      "source": [
        "peaks = sl.find_peaks(data, height=0.6)\nsl.peak_info(peaks)"
      ]
    },
    {
      "cell_type": "markdown",
      "metadata": {},
      "source": [
        "Now, only peaks with a relative intensity > 0.6 are included in the peak list.\n\n"
      ]
    }
  ],
  "metadata": {
    "kernelspec": {
      "display_name": "Python 3",
      "language": "python",
      "name": "python3"
    },
    "language_info": {
      "codemirror_mode": {
        "name": "ipython",
        "version": 3
      },
      "file_extension": ".py",
      "mimetype": "text/x-python",
      "name": "python",
      "nbconvert_exporter": "python",
      "pygments_lexer": "ipython3",
      "version": "3.11.9"
    }
  },
  "nbformat": 4,
  "nbformat_minor": 0
}