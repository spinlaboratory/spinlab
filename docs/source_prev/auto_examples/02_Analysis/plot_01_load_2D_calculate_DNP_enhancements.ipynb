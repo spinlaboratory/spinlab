{
  "cells": [
    {
      "cell_type": "markdown",
      "metadata": {},
      "source": [
        "\n\n# Load a 2D sldata object and calculate enhancements\n\nThis example demonstrates how to import Spin-NMR data in form of a 2D sldata object from an hdf5 file, calculate the Spin enhancement factors and plot the enhancement vs. the applied microwave power. This example uses the 2D data object that was created in a previous tutorial (`plot_04_create_sldata_object_from_individual_files`). The sample is 10 mM TEMPO in Toluene measured at 14.5MHz (X-Band ODNP spectroscopy).\n"
      ]
    },
    {
      "cell_type": "markdown",
      "metadata": {},
      "source": [
        "## Load NMR Spectra\nIn this example, we will calculate the Spin enhancement factor for each individual Spin spectrum and create a figure showing the Spin enhancement versus the applied microwave power. For this, we will import the 2D sldata object created in the previous sample. If you are not yet familiar with how to concatenate individual spectra into the 2D sldata object, check out this tutorial: `plot_04_create_sldata_object_from_individual_files`.\n\nFirst, load the 2D spinlab data object:\n\n"
      ]
    },
    {
      "cell_type": "code",
      "execution_count": null,
      "metadata": {
        "collapsed": false
      },
      "outputs": [],
      "source": [
        "import spinlab as sl\nfrom spinlab.processing.integration import integrate\n\nsampleTag = \"10 mM TEMPO in Toluene\"\nfile_name_path = \"../../data/h5/PowerBuildUp.h5\"\ndata = sl.load(file_name_path)"
      ]
    },
    {
      "cell_type": "markdown",
      "metadata": {},
      "source": [
        "## Calculate Spin Enhancement Factors\nSpinLab provides a convenient way to calculate the Spin enhancement factors by using the ``calculate_enhancement`` function. Enhancement factors are calculated using integrals. Integrals can be calculated over the entire spectrum, multiple regions, or can be just a single point. However, without calculating integrals first, the ``calculate_enhancement`` function will return an error.\n\n"
      ]
    },
    {
      "cell_type": "code",
      "execution_count": null,
      "metadata": {
        "collapsed": false
      },
      "outputs": [],
      "source": [
        "integrals = sl.integrate(data)\nenhancements = sl.calculate_enhancement(integrals)"
      ]
    },
    {
      "cell_type": "markdown",
      "metadata": {},
      "source": [
        "In this case, the integral is calculated over the entire spectrum followed by calculating the enhancement factors.\n\n"
      ]
    },
    {
      "cell_type": "markdown",
      "metadata": {},
      "source": [
        "<div class=\"alert alert-info\"><h4>Note</h4><p>The default behavior of the ``calculate_enhancement`` function is to use the first spectrum as the Off signal. If this is the case, the argument ``off_spectrum`` is not necessary. If you want to specify a particular spectrum that contains the off signal, use the ``off_spectrum`` argument.</p></div>\n\n"
      ]
    },
    {
      "cell_type": "code",
      "execution_count": null,
      "metadata": {
        "collapsed": false
      },
      "outputs": [],
      "source": [
        "# #     The ``calculate_enhancement``` function can also calculate the enhancement for specific regions of the spectrum. THis behavior will be discussed in the next example (:ref:`07_align_nmr_spectra`)."
      ]
    },
    {
      "cell_type": "markdown",
      "metadata": {},
      "source": [
        "## Plot Enhancement Data\nFinally, we can plot the enhancement data versus the microwave power.\n\n"
      ]
    },
    {
      "cell_type": "code",
      "execution_count": null,
      "metadata": {
        "collapsed": false
      },
      "outputs": [],
      "source": [
        "sl.fancy_plot(enhancements, title=sampleTag + \", ODNP Enhancements\")\nsl.plt.show()"
      ]
    }
  ],
  "metadata": {
    "kernelspec": {
      "display_name": "Python 3",
      "language": "python",
      "name": "python3"
    },
    "language_info": {
      "codemirror_mode": {
        "name": "ipython",
        "version": 3
      },
      "file_extension": ".py",
      "mimetype": "text/x-python",
      "name": "python",
      "nbconvert_exporter": "python",
      "pygments_lexer": "ipython3",
      "version": "3.11.9"
    }
  },
  "nbformat": 4,
  "nbformat_minor": 0
}