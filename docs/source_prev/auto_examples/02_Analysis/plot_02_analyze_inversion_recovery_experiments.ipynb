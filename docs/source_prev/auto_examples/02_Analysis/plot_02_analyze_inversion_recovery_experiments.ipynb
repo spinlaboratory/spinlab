{
  "cells": [
    {
      "cell_type": "markdown",
      "metadata": {},
      "source": [
        "\n\n# Analyze T1 Inversion-Recovery Experiments\n\nThis example demonstrates how to import TopSpin data from an inversion recovery NMR experiment and determine the T1 relaxation rate through a fit.\n"
      ]
    },
    {
      "cell_type": "markdown",
      "metadata": {},
      "source": [
        "## Load Inversion Recovery Spectra\nStart with importing data and creating the SpinLab workspace. Note that the data are added to the workspace as 'raw' then copied to the processing buffer 'proc' to preserve the raw data during processing.\n\n"
      ]
    },
    {
      "cell_type": "code",
      "execution_count": null,
      "metadata": {
        "collapsed": false
      },
      "outputs": [],
      "source": [
        "import numpy as np\nimport spinlab as sl\n\nfile_name_path = \"../../data/topspin/304\"\ndata = sl.load(file_name_path, assign_vdlist=\"t1\", remove_digital_filter=True)\ndata.attrs[\"experiment_type\"] = \"nmr_spectrum\""
      ]
    },
    {
      "cell_type": "markdown",
      "metadata": {},
      "source": [
        "Next, the FID has to be processed. Here, first a background correction is applied to remove any DC offsets, followed by windowing and FFT to get the frequency domain NMR spectrum.\n\n"
      ]
    },
    {
      "cell_type": "code",
      "execution_count": null,
      "metadata": {
        "collapsed": false
      },
      "outputs": [],
      "source": [
        "data = sl.remove_background(data)\ndata = sl.apodize(data, lw=100)\ndata = sl.fourier_transform(data)\n\ndata = sl.phase(data, p0=65)\n\nsl.fancy_plot(data, xlim=[-50, 80], title=\"Inversion Recovery\")\nsl.plt.show()"
      ]
    },
    {
      "cell_type": "markdown",
      "metadata": {},
      "source": [
        "## Align Inversion Recovery Spectra\nThe spectra shown here are the individual NMR spectra for different T1 recovery times. Note how these spectra are not perfectly aligned? This can be fixed using the aligning function. A more detailed description of the aligning routine of SpinLab is given in the tutorial `plot_01_align_nmr_spectra`.\n\n"
      ]
    },
    {
      "cell_type": "code",
      "execution_count": null,
      "metadata": {
        "collapsed": false
      },
      "outputs": [],
      "source": [
        "data = sl.ndalign(data)\n\nsl.fancy_plot(data, xlim=[-50, 80], title=\"Inversion Recovery, aligned\")\nsl.plt.show()"
      ]
    },
    {
      "cell_type": "markdown",
      "metadata": {},
      "source": [
        "## Integrate Spectra\nTo determine the T1 relaxation time, we first have to integrate the peak intensity across the entire spectrum. After integration the workspace will have a new sldata object called \"integrals\" where the integral values and indirect axis are kept. To use ``fancy_plot`` the attribute experiment_type has to be changed to \"inversion_recovery\".\n\n"
      ]
    },
    {
      "cell_type": "code",
      "execution_count": null,
      "metadata": {
        "collapsed": false
      },
      "outputs": [],
      "source": [
        "integrals = sl.integrate(data)\nintegrals.attrs[\"experiment_type\"] = \"inversion_recovery\"\nsl.fancy_plot(integrals)\nsl.plt.show()\n\n\n# Depending on the quality of the data it is sometimes better to not integrate over the entire spectrum but to pick a peak region and only integrate over this region. To integrate over a region from 0 to 20 ppm us the following command:\n\nintegrals = sl.integrate(data, regions=[(0, 20)])\nintegrals.attrs[\"experiment_type\"] = \"inversion_recovery\"\nsl.fancy_plot(integrals)\nsl.plt.show()"
      ]
    },
    {
      "cell_type": "markdown",
      "metadata": {},
      "source": [
        "## Fit Data\nTo get the T1 value an inversion recovery function is fitted to the data sets. The fit requires an initial guess.\n\n"
      ]
    },
    {
      "cell_type": "code",
      "execution_count": null,
      "metadata": {
        "collapsed": false
      },
      "outputs": [],
      "source": [
        "initial_guess = (2.0, -4000, 4000)  # initial guess for: T1, M_0, M_inf\nout = sl.fit(sl.math.relaxation.t1, integrals, dim=\"t1\", p0=initial_guess)\n\nfit = out[\"fit\"]\npopt = out[\"popt\"]\nerr = out[\"err\"]\n\nsl.fancy_plot(integrals, title=\"Inversion Recovery\")\nsl.plot(fit, \"-\")\nsl.plt.show()\n\nT1 = popt[\"popt\", 0]\nM_0 = popt[\"popt\", 1]\nM_inf = popt[\"popt\", 2]\n\nprint(T1.values)\nprint(M_0.values)\nprint(M_inf.values)"
      ]
    }
  ],
  "metadata": {
    "kernelspec": {
      "display_name": "Python 3",
      "language": "python",
      "name": "python3"
    },
    "language_info": {
      "codemirror_mode": {
        "name": "ipython",
        "version": 3
      },
      "file_extension": ".py",
      "mimetype": "text/x-python",
      "name": "python",
      "nbconvert_exporter": "python",
      "pygments_lexer": "ipython3",
      "version": "3.11.9"
    }
  },
  "nbformat": 4,
  "nbformat_minor": 0
}