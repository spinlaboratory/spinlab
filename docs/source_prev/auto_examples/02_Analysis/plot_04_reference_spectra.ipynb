{
  "cells": [
    {
      "cell_type": "markdown",
      "metadata": {},
      "source": [
        "\n\n# Reference  Spectra\n\nThis example demonstrates how to reference spectra using Toluene as an example.\n"
      ]
    },
    {
      "cell_type": "markdown",
      "metadata": {},
      "source": [
        "## Load Toluene Spectra\nStart with importing data and creating the SpinLab workspace.\nThe data has been processed and saved in .h5 file.\n\n"
      ]
    },
    {
      "cell_type": "code",
      "execution_count": null,
      "metadata": {
        "collapsed": false
      },
      "outputs": [],
      "source": [
        "import numpy as np\nimport spinlab as sl\n\nsampleTag = \"10 mM TEMPO in Toluene\"\nfile_name_path = \"../../data/prospa/toluene_10mM_Tempone/42\"\ndata = sl.load(file_name_path)\n\ndata.attrs[\"experiment_type\"] = \"nmr_spectrum\"\ndata = sl.apodize(data, lw=10)\ndata = sl.fourier_transform(data)"
      ]
    },
    {
      "cell_type": "markdown",
      "metadata": {},
      "source": [
        "## Plot Toluene Spectra\nOnce the data are imported and processed, it is time to plot the 1D spectra.\n\n"
      ]
    },
    {
      "cell_type": "code",
      "execution_count": null,
      "metadata": {
        "collapsed": false
      },
      "outputs": [],
      "source": [
        "sl.fancy_plot(data, xlim=[-20, 20], title=sampleTag)\nsl.plt.show()"
      ]
    },
    {
      "cell_type": "markdown",
      "metadata": {},
      "source": [
        "## Find Toluene Peaks\nIn the previous example, we have demonstrated how to find peaks. Now, we apply the SpinLab function *find_peaks* to get a SpinData object of all peaks. \n\n"
      ]
    },
    {
      "cell_type": "code",
      "execution_count": null,
      "metadata": {
        "collapsed": false
      },
      "outputs": [],
      "source": [
        "peaks = sl.find_peaks(data)\nsl.peak_info(peaks)"
      ]
    },
    {
      "cell_type": "markdown",
      "metadata": {},
      "source": [
        "## Reference Proton Peak\nWe can see that chemical shift for proton peak is roughly at 2.79 ppm. \nLet's reference this peak to 7.70 ppm applying the SpinLab function *reference*.\n\n"
      ]
    },
    {
      "cell_type": "code",
      "execution_count": null,
      "metadata": {
        "collapsed": false
      },
      "outputs": [],
      "source": [
        "data = sl.reference(data, old_ref = 2.79, new_ref = 7.70)\n\n# We can plot the spectra after reference.\nsl.fancy_plot(data, xlim=[-10, 30], title=sampleTag)\nsl.plt.show()"
      ]
    },
    {
      "cell_type": "markdown",
      "metadata": {},
      "source": [
        "## Check the Proton Peak\nAfter we referenced the peaks, we can apply *find_peaks* functions again to get a SpinData object of all peaks. \n\n"
      ]
    },
    {
      "cell_type": "code",
      "execution_count": null,
      "metadata": {
        "collapsed": false
      },
      "outputs": [],
      "source": [
        "peaks = sl.find_peaks(data)\nsl.peak_info(peaks)"
      ]
    }
  ],
  "metadata": {
    "kernelspec": {
      "display_name": "Python 3",
      "language": "python",
      "name": "python3"
    },
    "language_info": {
      "codemirror_mode": {
        "name": "ipython",
        "version": 3
      },
      "file_extension": ".py",
      "mimetype": "text/x-python",
      "name": "python",
      "nbconvert_exporter": "python",
      "pygments_lexer": "ipython3",
      "version": "3.11.9"
    }
  },
  "nbformat": 4,
  "nbformat_minor": 0
}