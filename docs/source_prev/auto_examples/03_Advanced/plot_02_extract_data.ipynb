{
  "cells": [
    {
      "cell_type": "markdown",
      "metadata": {},
      "source": [
        "\n\n# Extract Individual Spectra\n\nThis example demonstrates how to extract data from a multidimensional sldata object. For example, extracting a single spectrum (or a set of spectra) for a 2D set of spectra.\n"
      ]
    },
    {
      "cell_type": "markdown",
      "metadata": {},
      "source": [
        "## Load 2D NMR Data\nFor this example we will use a two-dimensional ODNP-enhanced NMR data set. Start by importing and plotting the 2D NMR data set created in the previous example (`plot_01_align_nmr_spectra`).\n\n"
      ]
    },
    {
      "cell_type": "code",
      "execution_count": null,
      "metadata": {
        "collapsed": false
      },
      "outputs": [],
      "source": [
        "import spinlab as sl\n\nfile_name_path = \"../../data/h5/PowerBuildUpAligned.h5\"\ndata = sl.load(file_name_path)\ndata.attrs[\"experiment_type\"] = \"nmr_spectrum\"\nsl.fancy_plot(data, xlim=[-10, 20], title=\"ODNP, 10 mM TEMPO in Toluene\")\nsl.plt.show()"
      ]
    },
    {
      "cell_type": "markdown",
      "metadata": {},
      "source": [
        "The example data set consists of ODND-enhanced NMR spectra of a sample of 10 mM TEMPO in toluene. In the second dimension the microwave power is varied.\n\n"
      ]
    },
    {
      "cell_type": "markdown",
      "metadata": {},
      "source": [
        "## Indexing Using Integers\nLet's start with the simplest way to extract (index) a single spectrum from a 2D NMR data set. The data set imported here are ODNP-enhanced 1H NMR spectra of toluene. One dimension contains the NMR spectrum (``dim = 'f2'``) and the microwave power is increased throughout the second dimension (``dim = 'power'``). To extract data from the sldata object, the user has to specify the name of the dimension and the index of the spectrum. This index has to be an integer and follows the Python convention for indexing (0 is the first index, -1 is the last index). For example, the 4th NMR spectrum at a given microwave power can be extracted from the 2D data set by:\n\n"
      ]
    },
    {
      "cell_type": "code",
      "execution_count": null,
      "metadata": {
        "collapsed": false
      },
      "outputs": [],
      "source": [
        "single_spectrum = data[\"Power\", 3]"
      ]
    },
    {
      "cell_type": "markdown",
      "metadata": {},
      "source": [
        "Next, we can plot the spectrum (Note, that the spectrum is not referenced correctly).\n\n"
      ]
    },
    {
      "cell_type": "code",
      "execution_count": null,
      "metadata": {
        "collapsed": false
      },
      "outputs": [],
      "source": [
        "sl.fancy_plot(single_spectrum, xlim=[-10, 20])\nsl.plt.show()"
      ]
    },
    {
      "cell_type": "markdown",
      "metadata": {},
      "source": [
        "The above command creates a new sldata object named ``single_spectrum``. If you just want to plot a a specific trace, this can be done by indexing the sldata object directly:\n\n"
      ]
    },
    {
      "cell_type": "code",
      "execution_count": null,
      "metadata": {
        "collapsed": false
      },
      "outputs": [],
      "source": [
        "sl.fancy_plot(data[\"Power\", -1], xlim=[-10, 20])\nsl.plt.show()"
      ]
    },
    {
      "cell_type": "markdown",
      "metadata": {},
      "source": [
        "Here, the last spectrum (python index -1) of the sldata object ``data`` is plotted.\n\n"
      ]
    },
    {
      "cell_type": "markdown",
      "metadata": {},
      "source": [
        "In some situations it is useful to select a subset of spectra from the data set e.g. for further data processing. For example, the first 5 spectra of the sldata object ``data`` can be selected by:\n\n"
      ]
    },
    {
      "cell_type": "code",
      "execution_count": null,
      "metadata": {
        "collapsed": false
      },
      "outputs": [],
      "source": [
        "sub_data = data[\"Power\", 0:5]"
      ]
    },
    {
      "cell_type": "markdown",
      "metadata": {},
      "source": [
        "## Indexing Using Floats\nIn the previous example, a single spectrum or a sub-set of spectra was selected using an integer number to index the data set. This is convenient if this dimension has only a small number of indexes. However, when this dimension is large it is less convenient to use an integer. For example, it is not very convenient to index a 1D NMR spectrum with 8,192 points by an integer indicating the position in the vector/array. Here, it is much more convenient to give the axis value to extract the data that falls within these boundaries.\n\n"
      ]
    },
    {
      "cell_type": "code",
      "execution_count": null,
      "metadata": {
        "collapsed": false
      },
      "outputs": [],
      "source": [
        "sub_data = data[\"f2\", (-8.0, 18.0)]"
      ]
    },
    {
      "cell_type": "markdown",
      "metadata": {},
      "source": [
        "The spectra are plotted below. Note the range of the data set is -8 to 18 ppm. The new sldata object ``sub_data`` only contains the selected data region, the remaining data points are discarded.\n\n"
      ]
    },
    {
      "cell_type": "code",
      "execution_count": null,
      "metadata": {
        "collapsed": false
      },
      "outputs": [],
      "source": [
        "sl.fancy_plot(\n    sub_data,\n    xlim=[-15, 25],\n    title=\"ODNP, 10 mM TEMPO in Toluene, Slice Spectra Using Floats\",\n)\nsl.plt.show()"
      ]
    },
    {
      "cell_type": "markdown",
      "metadata": {},
      "source": [
        "## Indexing Multiple Dimensions\nFor multi-dimensional data sets, the user can specify multiple dimensions at once. For example ``data['x', 1:10, 'y', :, 'z', (3.5, 7.5)]``. In the following example we will select only one single NMR spectrum (e.g. ``'Power' , 0``) within a spectral range of -8 to 18 ppm.\n\n"
      ]
    },
    {
      "cell_type": "code",
      "execution_count": null,
      "metadata": {
        "collapsed": false
      },
      "outputs": [],
      "source": [
        "sub_data = data[\"f2\", (-8.0, 18.0), \"Power\", 0]\n\nsl.fancy_plot(sub_data)\nsl.plt.show()"
      ]
    }
  ],
  "metadata": {
    "kernelspec": {
      "display_name": "Python 3",
      "language": "python",
      "name": "python3"
    },
    "language_info": {
      "codemirror_mode": {
        "name": "ipython",
        "version": 3
      },
      "file_extension": ".py",
      "mimetype": "text/x-python",
      "name": "python",
      "nbconvert_exporter": "python",
      "pygments_lexer": "ipython3",
      "version": "3.11.9"
    }
  },
  "nbformat": 4,
  "nbformat_minor": 0
}