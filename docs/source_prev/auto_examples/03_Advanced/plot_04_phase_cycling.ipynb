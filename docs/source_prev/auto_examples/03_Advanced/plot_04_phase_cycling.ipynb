{
  "cells": [
    {
      "cell_type": "markdown",
      "metadata": {},
      "source": [
        "\n\n# Using the spinlab phase cycling function\n\nThis example demonstrates how to use the phase cycling function on sldata objects.\n"
      ]
    },
    {
      "cell_type": "code",
      "execution_count": null,
      "metadata": {
        "collapsed": false
      },
      "outputs": [],
      "source": [
        "# The following example shows how and when the phase_cycle function can be conveniently used.\n#\n# To get started, first, setup the python environment:\n\nimport spinlab as sl"
      ]
    },
    {
      "cell_type": "markdown",
      "metadata": {},
      "source": [
        "Let's load some example data\nthe data consists of 4 fid that are phase cycled (0-90-180-270)\n\n"
      ]
    },
    {
      "cell_type": "code",
      "execution_count": null,
      "metadata": {
        "collapsed": false
      },
      "outputs": [],
      "source": [
        "data = sl.load(\"../../data/prospa/water_phase_cycled/data.2d\")"
      ]
    },
    {
      "cell_type": "markdown",
      "metadata": {},
      "source": [
        "we are interested in the spectra\nand only the arbitrary part from -900 to -100 ppm\n\n"
      ]
    },
    {
      "cell_type": "code",
      "execution_count": null,
      "metadata": {
        "collapsed": false
      },
      "outputs": [],
      "source": [
        "data = sl.fourier_transform(data)[\"f2\", (-900.0, -100.0)]"
      ]
    },
    {
      "cell_type": "markdown",
      "metadata": {},
      "source": [
        "we look at the real part of the spectra\n\n"
      ]
    },
    {
      "cell_type": "code",
      "execution_count": null,
      "metadata": {
        "collapsed": false
      },
      "outputs": [],
      "source": [
        "data_real = data.real"
      ]
    },
    {
      "cell_type": "markdown",
      "metadata": {},
      "source": [
        "lets plot the spectrum for all 4 cycles\n\n"
      ]
    },
    {
      "cell_type": "code",
      "execution_count": null,
      "metadata": {
        "collapsed": false
      },
      "outputs": [],
      "source": [
        "sl.fancy_plot(data_real)"
      ]
    },
    {
      "cell_type": "markdown",
      "metadata": {},
      "source": [
        "clearly the spectra are phase cycled, but we'd like to have them phased all the same\nwe can use sl.phase_cycle for that:\nNote that [0(X),1(Y),2(-X),3(-Y)] gives the phase cycle Axes.\n\n"
      ]
    },
    {
      "cell_type": "code",
      "execution_count": null,
      "metadata": {
        "collapsed": false
      },
      "outputs": [],
      "source": [
        "data_phased = sl.phase_cycle(data, \"Average\", [0, 1, 2, 3])\nsl.fancy_plot(data_phased)"
      ]
    }
  ],
  "metadata": {
    "kernelspec": {
      "display_name": "Python 3",
      "language": "python",
      "name": "python3"
    },
    "language_info": {
      "codemirror_mode": {
        "name": "ipython",
        "version": 3
      },
      "file_extension": ".py",
      "mimetype": "text/x-python",
      "name": "python",
      "nbconvert_exporter": "python",
      "pygments_lexer": "ipython3",
      "version": "3.11.9"
    }
  },
  "nbformat": 4,
  "nbformat_minor": 0
}