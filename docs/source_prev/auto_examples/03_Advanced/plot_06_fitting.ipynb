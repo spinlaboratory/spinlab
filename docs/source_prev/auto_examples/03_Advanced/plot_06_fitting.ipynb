{
  "cells": [
    {
      "cell_type": "markdown",
      "metadata": {},
      "source": [
        "\n\n# Using the SpinLab Fit function\n\nThis example demonstrates how to use the SpinLab fit function on a sldata object.\n"
      ]
    },
    {
      "cell_type": "markdown",
      "metadata": {},
      "source": [
        "The following example shows how the autophase function can be conveniently used.\nTo get started, first, setup the python environment:\n\n"
      ]
    },
    {
      "cell_type": "code",
      "execution_count": null,
      "metadata": {
        "collapsed": false
      },
      "outputs": [],
      "source": [
        "import spinlab as sl\nimport numpy as np"
      ]
    },
    {
      "cell_type": "markdown",
      "metadata": {},
      "source": [
        "Let's generate a test data set with some noise\nthe test data is a lorentzian distribution with some noise added\n\n"
      ]
    },
    {
      "cell_type": "code",
      "execution_count": null,
      "metadata": {
        "collapsed": false
      },
      "outputs": [],
      "source": [
        "pts = 1024\nx = np.r_[-50:50:1j*pts]\n\nnp.random.seed(101)\n\nvalues = sl.math.lineshape.lorentzian(x, 0, 0.5, 1.5)\nvalues += np.random.randn(pts)*0.05\n\ndata = sl.SpinData(values, ['f2'], [x])"
      ]
    },
    {
      "cell_type": "markdown",
      "metadata": {},
      "source": [
        "Now we guess the initial parameters of the fit\nwe create a spectrum with the initial guess to compare to our test data\n\n"
      ]
    },
    {
      "cell_type": "code",
      "execution_count": null,
      "metadata": {
        "collapsed": false
      },
      "outputs": [],
      "source": [
        "init_guess = [0, 0.5, 1.0]\n\nguess_values = sl.math.lineshape.lorentzian(x, *init_guess)\n\nguess = sl.SpinData(guess_values, ['f2'], [x])"
      ]
    },
    {
      "cell_type": "markdown",
      "metadata": {},
      "source": [
        "now we perform the fit\nthe output is a dictionary of SpinData objects containting the \"fit\" and optimal parameters \"popt\"\n\n"
      ]
    },
    {
      "cell_type": "code",
      "execution_count": null,
      "metadata": {
        "collapsed": false
      },
      "outputs": [],
      "source": [
        "out = sl.fit(sl.math.lineshape.lorentzian, data, 'f2', init_guess)\nfit = out['fit']\npopt = out['popt']\n\nprint('Optimal Fit Values')\nprint(popt.values) # print optimal fitting values"
      ]
    },
    {
      "cell_type": "markdown",
      "metadata": {},
      "source": [
        "Now we plot the data, initial guess and fit\n\n"
      ]
    },
    {
      "cell_type": "code",
      "execution_count": null,
      "metadata": {
        "collapsed": false
      },
      "outputs": [],
      "source": [
        "sl.plt.figure('data')\nsl.plot(data, label = 'data')\nsl.plot(guess, label = 'guess')\nsl.plot(fit, label = 'fit')\nsl.plt.legend()\nsl.plt.show()"
      ]
    }
  ],
  "metadata": {
    "kernelspec": {
      "display_name": "Python 3",
      "language": "python",
      "name": "python3"
    },
    "language_info": {
      "codemirror_mode": {
        "name": "ipython",
        "version": 3
      },
      "file_extension": ".py",
      "mimetype": "text/x-python",
      "name": "python",
      "nbconvert_exporter": "python",
      "pygments_lexer": "ipython3",
      "version": "3.11.9"
    }
  },
  "nbformat": 4,
  "nbformat_minor": 0
}