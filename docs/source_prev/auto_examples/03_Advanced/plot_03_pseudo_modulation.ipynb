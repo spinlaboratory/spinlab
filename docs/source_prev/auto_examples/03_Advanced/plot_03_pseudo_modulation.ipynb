{
  "cells": [
    {
      "cell_type": "markdown",
      "metadata": {},
      "source": [
        "\n\n# Pseudo Modulation of EPR Spectra\n\nTypically, cw EPR spectra are recorded and shown as its first derivative, because the spectrum is detected using a lock-in amplifier. In contrast, a echo-detected field sweep spectrum is recorded as the absorption spectrum. To simulated the effect of the lock-in detection on an absorption spectrum to compare spectra, the data can be pseudo-modulated to calculate the derivative of the spectrum and to filter out noise. The same attention needs to be paid to the modulation amplitude as in an actual cw experiment. The spectrum can easily be overmodulated if the value of the modulation amplitude is too high.\n\nThe procedure was developed in the lab of Jim Hyde and is described here:\n\n* Hyde, J., M. Pasenkiewicz-Gierula, A. Jesmanowicz, and W. Antholine. \u201cPseudo Field Modulation in EPR Spectroscopy.\u201d Applied Magnetic Resonance 1 (1990): 483\u201396.\n"
      ]
    },
    {
      "cell_type": "markdown",
      "metadata": {},
      "source": [
        "## Load 1D EPR Spectrum\nFor this example we will start by loading a echo-detected field sweep spectrum of a nitroxide radical. The spectrum was recorded using SpecMan4EPR using a constant magnetic field sweep. The field is recorded at each point and fitted to a 3rd order polynome to generate the field axis. Many of these steps are specific to the data set and may not required in your case.\n\n"
      ]
    },
    {
      "cell_type": "code",
      "execution_count": null,
      "metadata": {
        "collapsed": false
      },
      "outputs": [],
      "source": [
        "import spinlab as sl\nimport numpy as np\n\nfile_name_path = \"../../data/specman/Nitroxide_Q_Band.d01\"\ndata = sl.load(file_name_path)\n\ndata = sl.left_shift(data, \"x0\", 1)\n\nfield = data[\"x1\", 2].values.squeeze()\np = np.polyfit(data.coords[\"x0\"], field, deg=3)\nfield_fit = np.polyval(p, data.coords[\"x0\"])\n\ndata = data[\"x1\", 0].sum(\"x1\") + 1j * data[\"x1\", 1].sum(\"x1\")\ndata = sl.update_axis(\n    data, start_stop=[field_fit[0], field_fit[-1]], dim=0, new_dims=\"B0\"\n)"
      ]
    },
    {
      "cell_type": "markdown",
      "metadata": {},
      "source": [
        "The imported EPR spectrum is shown in the figure below. It is an echo-detected field-sweep EPR spectrum of a nitroxide bi-radical, recorded at Q-Band frequencies.\n\n"
      ]
    },
    {
      "cell_type": "code",
      "execution_count": null,
      "metadata": {
        "collapsed": false
      },
      "outputs": [],
      "source": [
        "sl.plt.figure()\nsl.fancy_plot(data)\nsl.plt.show()"
      ]
    },
    {
      "cell_type": "markdown",
      "metadata": {},
      "source": [
        "To calculated the pseudo-modulated spectrum of the absorption spectrum use the SpinLab function ``pseudo_modulation``.\n\n"
      ]
    },
    {
      "cell_type": "code",
      "execution_count": null,
      "metadata": {
        "collapsed": false
      },
      "outputs": [],
      "source": [
        "data_mod = sl.pseudo_modulation(data, modulation_amplitude=0.001)"
      ]
    },
    {
      "cell_type": "markdown",
      "metadata": {},
      "source": [
        "The field axis of this example spectrum is given in (T). Therefore, the unit for the modulation_amplitude also needs to be given in (T). In the above example, the pseudo-modulation spectrum is calculated using a modulation amplitude of 1 mT (10 G).\n\n"
      ]
    },
    {
      "cell_type": "code",
      "execution_count": null,
      "metadata": {
        "collapsed": false
      },
      "outputs": [],
      "source": [
        "sl.plt.figure()\nsl.fancy_plot(data_mod)\nsl.plt.show()"
      ]
    },
    {
      "cell_type": "markdown",
      "metadata": {},
      "source": [
        "Just like in a real cw experiment, the spectrum will show too broad lines, if the modulation amplitude is too large. The spectrum will be overmodulated. Below, the effect is shown for a modulation amplitude of 5 mT (50 G).\n\n"
      ]
    },
    {
      "cell_type": "code",
      "execution_count": null,
      "metadata": {
        "collapsed": false
      },
      "outputs": [],
      "source": [
        "data_mod = sl.pseudo_modulation(data, modulation_amplitude=0.005)\n\nsl.plt.figure()\nsl.fancy_plot(data_mod)\nsl.plt.show()"
      ]
    }
  ],
  "metadata": {
    "kernelspec": {
      "display_name": "Python 3",
      "language": "python",
      "name": "python3"
    },
    "language_info": {
      "codemirror_mode": {
        "name": "ipython",
        "version": 3
      },
      "file_extension": ".py",
      "mimetype": "text/x-python",
      "name": "python",
      "nbconvert_exporter": "python",
      "pygments_lexer": "ipython3",
      "version": "3.11.9"
    }
  },
  "nbformat": 4,
  "nbformat_minor": 0
}