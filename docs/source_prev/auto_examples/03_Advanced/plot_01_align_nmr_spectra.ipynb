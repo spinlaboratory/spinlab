{
  "cells": [
    {
      "cell_type": "markdown",
      "metadata": {},
      "source": [
        "\n\n# Align NMR Spectra\n\nIn example `plot_01_load_2D_calculate_Spin_enhancements` we calculated the ODNP enhancement for all protons in toluene, across the entire spectrum. However, the resolution of the spectrum is high enough to resolve the individual NMR peaks of the methyl group and the aromatic protons. This will allow us to calculate the enhancements for the individual peaks. However, as common in low-field NMR spectroscopy, we first have to correct spectra because of the field drift. While magnetic field drift is not an issue in high-field NMR systems using a superconducting magnet, this is not the case in low field systems that either use a electromagnet or a permanent magnet. Peaks will drift and simply averaging over a longer period of time will result in broadened peaks and therefore decreased resolution.\n\nThe align routine implemented in SpinLab overlays each individual scan by maximizing the FFT cross-correlation of each scan with a reference scan. This method shifts the spectra in discrete points and calculates the cross-correlation function between the two spectra for each step. The maximum correlation corresponds to the optimum overlap (maximum of the cross-correlation function) between the spectra. This method has successfully been used in [ODNP Spectroscopy](https://linkinghub.elsevier.com/retrieve/pii/S1090780720300379). For more information about alignment methods for NMR spectra check out the article by [Vu et al.](https://doi.org/10.3390/metabo3020259).\n"
      ]
    },
    {
      "cell_type": "markdown",
      "metadata": {},
      "source": [
        "## Load NMR Spectral Data\nStart with importing the NMR spectra from the previous example (`plot_04_create_sldata_object_from_individual_files`).\n\n"
      ]
    },
    {
      "cell_type": "code",
      "execution_count": null,
      "metadata": {
        "collapsed": false
      },
      "outputs": [],
      "source": [
        "import spinlab as sl\n\nfile_name_path = \"../../data/h5/PowerBuildUp.h5\"\ndata = sl.load(file_name_path)\ndata.attrs[\"experiment_type\"] = \"nmr_spectrum\""
      ]
    },
    {
      "cell_type": "markdown",
      "metadata": {},
      "source": [
        "When plotting the data notice that the peaks are not aligned due, in this case, to magnetic field drift.\n\n"
      ]
    },
    {
      "cell_type": "code",
      "execution_count": null,
      "metadata": {
        "collapsed": false
      },
      "outputs": [],
      "source": [
        "sl.fancy_plot(data, xlim=[-10, 20], title=\"ODNP, 10 mM TEMPO in Toluene, Not Aligned\")\nsl.plt.show()"
      ]
    },
    {
      "cell_type": "markdown",
      "metadata": {},
      "source": [
        "## Align Spectra\nTo align the NMR spectra call the align function ``sl.ndalign()``. This process may take a couple of seconds if the 2D NMR data set is large.\n\n"
      ]
    },
    {
      "cell_type": "code",
      "execution_count": null,
      "metadata": {
        "collapsed": false
      },
      "outputs": [],
      "source": [
        "data_aligned = sl.ndalign(data)\n\n# # %%\n# # Next, let's plot the aligned data. Note, that the spectrum is not referenced correctly.\n\nsl.fancy_plot(\n    data_aligned, xlim=[-10, 20], title=\"ODNP, 10 mM TEMPO in Toluene, Aligned\"\n)\nsl.plt.show()"
      ]
    },
    {
      "cell_type": "markdown",
      "metadata": {},
      "source": [
        "## Save Aligned Spectra\nThe last step is to save the aligned spectra for further analysis. Similar to the previous example (`plot_04_create_sldata_object_from_individual_files`) we will save the entire workspace in the h5 file format.\n\n"
      ]
    },
    {
      "cell_type": "code",
      "execution_count": null,
      "metadata": {
        "collapsed": false
      },
      "outputs": [],
      "source": [
        "file_name_path = \"../../data/h5/PowerBuildUpAligned.h5\"\nsl.save(data_aligned, file_name_path, overwrite=True)"
      ]
    }
  ],
  "metadata": {
    "kernelspec": {
      "display_name": "Python 3",
      "language": "python",
      "name": "python3"
    },
    "language_info": {
      "codemirror_mode": {
        "name": "ipython",
        "version": 3
      },
      "file_extension": ".py",
      "mimetype": "text/x-python",
      "name": "python",
      "nbconvert_exporter": "python",
      "pygments_lexer": "ipython3",
      "version": "3.11.9"
    }
  },
  "nbformat": 4,
  "nbformat_minor": 0
}